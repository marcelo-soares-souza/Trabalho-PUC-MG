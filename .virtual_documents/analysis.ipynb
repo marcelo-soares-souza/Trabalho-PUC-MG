# Trabalho de Conclusão de Curso apresentado ao Curso de Especialização em Inteligência Artificial e Aprendizado de Máquina, como requisito parcial à obtenção do título de Especialista.
# Utilizando Machine Learning para a identificação de distúrbios do sono
# Marcelo Soares Souza
# 2023-08-04


import matplotlib.pyplot as plt
import seaborn as sns
import numpy as np
import pandas as pd


df = pd.read_csv('dataset/sleep_health_and_lifestyle_dataset.csv')


df


df.describe()


df.dtypes


df['Age'].isnull().values.any()


df.iloc[:, :-1].isnull().values.any() # Verificando se Existe algum valor Null nos Preditores (Features)


df.iloc[:, :13].isnull().values.any() # Verificando se Existe algum valor Null na varíavel dependente (Alvo)


df["Sleep Disorder"].fillna("No Problem", inplace = True)


df.iloc[:, :13].isnull().values.any() # Verificando se Existe algum valor Null na varíavel dependente (Alvo)


df.iloc[:, -1].isnull().values.any()


df = df.drop(columns=['Person ID', 'Blood Pressure'])


def remove_outliers(df, columns, n_std):
    for col in columns:
        print('Tratando a Coluna: {}'.format(col))
        mean = df[col].mean()
        sd = df[col].std()
        df = df[(df[col] <= mean+(n_std*sd))]

    return df


print(f'[starting] Antes da remoção de Outliers: {len(df)}')
df = remove_outliers(df, ['Age', 'Sleep Duration', 'Quality of Sleep', 'Physical Activity Level', 'Stress Level', 'Heart Rate', 'Daily Steps'], 3)
print(f'[starting] Após a remoção de Outliers: {len(df)}')


import warnings
warnings.filterwarnings("ignore")
plt.figure(figsize=(6.4,4.8))
plot = sns.pairplot(df, hue='Sleep Disorder', markers=["o", "s", "D"])
plt.show()


dft = df['Sleep Disorder'].value_counts().reset_index(name='Count')
plt.figure(figsize=(20,10))
plot = sns.barplot(x='Sleep Disorder', y='Count', data=dft, hue='Sleep Disorder')
# fig = plot.get_figure()
# fig.savefig("barplot.png")
plt.show()


dft = df.groupby(['Sleep Disorder']).Occupation.value_counts().reset_index(name='Count')
plt.figure(figsize=(20,10))
sns.barplot(x='Sleep Disorder', y='Count', data=dft, hue='Occupation', saturation=1)
plt.show()


sns.lineplot(data=df, x="Sleep Duration", y="Quality of Sleep")
plt.show()


apnea = df[df['Sleep Disorder']=='Sleep Apnea'].reset_index(drop=True)
noproblem = df[df['Sleep Disorder']=='No Problem'].reset_index(drop=True)
insomnia = df[df['Sleep Disorder']=='Insomnia'].reset_index(drop=True)

sns.lineplot(x='Stress Level', y='Quality of Sleep', data=apnea, legend='auto', label='Sleep Apnea')
sns.lineplot(x='Stress Level', y='Quality of Sleep', data=noproblem, legend='auto', label='No Problem')
sns.lineplot(x='Stress Level', y='Quality of Sleep', data=insomnia, legend='auto', label='Insomnia')

plt.show()


sns.lineplot(data=df, x="Age", y="Quality of Sleep")
plt.show()


sns.lineplot(data=df, x='Sleep Duration', y='Daily Steps')
plt.show()


columns = ['Gender', 'Age', 'Occupation', 'Sleep Duration', 'Quality of Sleep', 'Physical Activity Level', 'Stress Level', 'BMI Category', 'Heart Rate', 'Daily Steps']
target = 'Sleep Disorder'
X = df.loc[:, columns]
y = df.loc[:, target]
# X = df.iloc[:, :-1].values
# y = df.iloc[:, -1].values


from sklearn.compose import ColumnTransformer
from sklearn.preprocessing import OneHotEncoder


ct = ColumnTransformer(transformers=[('encoder', OneHotEncoder(), [0, 2, 7])], remainder='passthrough')
X = np.array(ct.fit_transform(X))


X[0]


from sklearn.preprocessing import LabelEncoder
le = LabelEncoder()
y = le.fit_transform(y)
y


from sklearn.model_selection import train_test_split
X_train, X_test, y_train, y_test = train_test_split(X, y, test_size = 0.2, random_state = 42)


X_train


from imblearn.over_sampling import SMOTE, SMOTEN
from collections import Counter
print(f'Antes do SMOTE: {sorted(Counter(y_train).items())}')
sm = SMOTE(random_state=42)
X_train_res, y_train_res = sm.fit_resample(X_train, y_train)
X_train, y_train = X_train_res, y_train_res
print(f'Depois do SMOTE: {sorted(Counter(y_train).items())}')


X_train


from collections import Counter
print(f'Counter of Y Classes in training {Counter(y_train)}')


X_train


from sklearn.preprocessing import StandardScaler
sc = StandardScaler()
X_train[:, 0:] = sc.fit_transform(X_train[:, 0: ])
X_test[:, 0:] = sc.transform(X_test[:, 0:])


from sklearn.linear_model import LogisticRegression
lr_classifier = LogisticRegression(random_state=42, max_iter=512).fit(X_train, y_train)
lr_prediction = lr_classifier.predict(X_test)


from sklearn.ensemble import RandomForestClassifier
rfc_classifier = RandomForestClassifier(random_state=42).fit(X_train, y_train)
rfc_prediction = rfc_classifier.predict(X_test)


from sklearn.neural_network import MLPClassifier
MLPC_classifier = MLPClassifier(random_state=42).fit(X_train, y_train)
MLPC_prediction = MLPC_classifier.predict(X_test)


from sklearn.metrics import (ConfusionMatrixDisplay, accuracy_score,
                             classification_report, confusion_matrix, f1_score,
                             precision_score, recall_score)



lr_accuracy = accuracy_score(y_test, lr_prediction)
lr_precision = precision_score(y_test, lr_prediction, average='weighted', zero_division=np.nan)
lr_f1 = f1_score(y_test, lr_prediction, average='weighted', zero_division=np.nan)
lr_recall = recall_score(y_test, lr_prediction, average='weighted', zero_division=np.nan)


print(f'Accuracy: {lr_accuracy:.0%}')
print(f'Precision: {lr_precision:.0%}')
print(f'F1: {lr_f1:.0%}')
print(f'Recall: {lr_recall:.0%}')
print(f'Report:\n {classification_report(y_test, lr_prediction)}')


cm = confusion_matrix(y_test, lr_prediction, labels=lr_classifier.classes_)
ConfusionMatrixDisplay(confusion_matrix=cm, display_labels=lr_classifier.classes_).plot()
plt.show()


rfc_accuracy = accuracy_score(y_test, rfc_prediction)
rfc_precision = precision_score(y_test, rfc_prediction, average='weighted', zero_division=np.nan)
rfc_f1 = f1_score(y_test, rfc_prediction, average='weighted', zero_division=np.nan)
rfc_recall = recall_score(y_test, rfc_prediction, average='weighted', zero_division=np.nan)


print(f'Accuracy: {rfc_accuracy:.0%}')
print(f'Precision: {rfc_precision:.0%}')
print(f'F1: {rfc_f1:.0%}')
print(f'Recall: {rfc_recall:.0%}')
print(f'Report:\n {classification_report(y_test, rfc_prediction)}')


cm = confusion_matrix(y_test, rfc_prediction, labels=rfc_classifier.classes_)
ConfusionMatrixDisplay(confusion_matrix=cm, display_labels=rfc_classifier.classes_).plot()
plt.show()


MLPC_accuracy = accuracy_score(y_test, MLPC_prediction)
MLPC_precision = precision_score(y_test, MLPC_prediction, average='weighted', zero_division=np.nan)
MLPC_f1 = f1_score(y_test, MLPC_prediction, average='weighted', zero_division=np.nan)
MLPC_recall = recall_score(y_test, MLPC_prediction, average='weighted', zero_division=np.nan)


print(f'Accuracy: {MLPC_accuracy:.0%}')
print(f'Precision: {MLPC_precision:.0%}')
print(f'F1: {MLPC_f1:.0%}')
print(f'Recall: {MLPC_recall:.0%}')
print(f'Report:\n {classification_report(y_test, MLPC_prediction)}')


cm = confusion_matrix(y_test, MLPC_prediction, labels=MLPC_classifier.classes_)
ConfusionMatrixDisplay(confusion_matrix=cm, display_labels=MLPC_classifier.classes_).plot()
plt.show()









